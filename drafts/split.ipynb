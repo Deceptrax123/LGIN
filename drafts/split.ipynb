{
 "cells": [
  {
   "cell_type": "code",
   "execution_count": 4,
   "metadata": {},
   "outputs": [],
   "source": [
    "from torch_geometric.datasets import TUDataset\n",
    "from torch_geometric.loader import DataLoader\n",
    "from sklearn.model_selection import train_test_split\n",
    "import wandb \n",
    "import os \n",
    "from dotenv import load_dotenv\n",
    "from torch import nn \n",
    "import torch\n"
   ]
  },
  {
   "cell_type": "code",
   "execution_count": 5,
   "metadata": {},
   "outputs": [],
   "source": [
    "\n",
    "inp_name = input('Enter the dataset to be downloaded: ')\n",
    "\n",
    "imdb_b = os.getenv('imdb_b')\n",
    "reddit_b = os.getenv('reddit_b')\n",
    "collab = os.getenv('collab')\n",
    "mutag = os.getenv('mutag')\n",
    "proteins = os.getenv('proteins')\n",
    "\n",
    "if inp_name == 'imdb_b':\n",
    "    dataset = TUDataset(\n",
    "        root=imdb_b, name='IMDB-BINARY', use_node_attr=True)\n",
    "elif inp_name == 'reddit_b':\n",
    "    dataset = TUDataset(\n",
    "        root=reddit_b, name='REDDIT-BINARY', use_node_attr=True)\n",
    "elif inp_name == 'collab':\n",
    "    dataset = TUDataset(root=collab, name='COLLAB', use_node_attr=True)\n",
    "elif inp_name == 'mutag':\n",
    "    dataset = TUDataset(root=mutag, name='MUTAG', use_node_attr=True)\n",
    "elif inp_name == 'proteins':\n",
    "    dataset = TUDataset(root=proteins, name='PROTEINS', use_node_attr=True)\n"
   ]
  },
  {
   "cell_type": "code",
   "execution_count": null,
   "metadata": {},
   "outputs": [],
   "source": [
    "train_ratio = 0.75\n",
    "validation_ratio = 0.10\n",
    "test_ratio = 0.15\n",
    "\n",
    "train_set,test_set = train_test_split(dataset,test_size=1 - train_ratio)\n",
    "\n",
    "val_set,test_set= train_test_split(test_set, test_size=test_ratio/(test_ratio + validation_ratio))"
   ]
  },
  {
   "cell_type": "code",
   "execution_count": null,
   "metadata": {},
   "outputs": [],
   "source": []
  }
 ],
 "metadata": {
  "kernelspec": {
   "display_name": ".venv",
   "language": "python",
   "name": "python3"
  },
  "language_info": {
   "codemirror_mode": {
    "name": "ipython",
    "version": 3
   },
   "file_extension": ".py",
   "mimetype": "text/x-python",
   "name": "python",
   "nbconvert_exporter": "python",
   "pygments_lexer": "ipython3",
   "version": "3.10.12"
  }
 },
 "nbformat": 4,
 "nbformat_minor": 2
}
